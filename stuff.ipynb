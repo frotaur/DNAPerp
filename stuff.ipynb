{
 "cells": [
  {
   "cell_type": "code",
   "execution_count": 1,
   "metadata": {},
   "outputs": [
    {
     "name": "stdout",
     "output_type": "stream",
     "text": [
      "Extracted duck to duck.fa\n",
      "Extracted leopard to leopard.fa\n",
      "Extracted leishan-spiny-toad to leishan-spiny-toad.fa\n",
      "Extracted emu to emu.fa\n",
      "Extracted common-wall-lizard to common-wall-lizard.fa\n",
      "Extracted beluga to beluga.fa\n",
      "Extracted chicken to chicken.fa\n",
      "Error processing dezipped: [Errno 21] Is a directory: '/home/vassilis/bigdrive/vassilis/DNA_data/dezipped'\n",
      "Extracted clown-anemonefish to clown-anemonefish.fa\n",
      "Extracted two-toed-sloth to two-toed-sloth.fa\n",
      "Extracted guppy to guppy.fa\n",
      "Extracted blue-whale to blue-whale.fa\n",
      "Extracted goodes-thornscrub-tortoise to goodes-thornscrub-tortoise.fa\n",
      "Extracted human to human.fa\n",
      "Extracted clawed-frog to clawed-frog.fa\n",
      "Extracted golden-eagle to golden-eagle.fa\n",
      "Extracted indian-cobra to indian-cobra.fa\n",
      "Extracted chimpanzee to chimpanzee.fa\n",
      "Extracted narwhal to narwhal.fa\n",
      "Extracted komodo-dragon to komodo-dragon.fa\n",
      "Extracted large-yellow-croaker to large-yellow-croaker.fa\n"
     ]
    }
   ],
   "source": [
    "from modules.util import *\n",
    "\n",
    "folder_files = '/home/vassilis/bigdrive/vassilis/DNA_data'\n",
    "folder_results = '/home/vassilis/bigdrive/vassilis/DNA_data/dezipped'\n",
    "\n",
    "extract_gz(folder_files, folder_results)"
   ]
  },
  {
   "cell_type": "code",
   "execution_count": 1,
   "metadata": {},
   "outputs": [
    {
     "name": "stdout",
     "output_type": "stream",
     "text": [
      "Got : tok_dict {'$': 0, 'A': 1, 'C': 2, 'G': 3, 'T': 4}\n",
      "Got : tok_dict_rev {0: '$', 1: 'A', 2: 'C', 3: 'G', 4: 'T'}\n",
      "Created empty dataset\n"
     ]
    },
    {
     "name": "stderr",
     "output_type": "stream",
     "text": [
      "  0%|          | 0/4 [00:05<?, ?it/s]"
     ]
    },
    {
     "name": "stdout",
     "output_type": "stream",
     "text": [
      "Detected phrase length of 10000000000 tokens.\n"
     ]
    },
    {
     "name": "stderr",
     "output_type": "stream",
     "text": [
      "\n"
     ]
    },
    {
     "ename": "AttributeError",
     "evalue": "'str' object has no attribute 'detokenize'",
     "output_type": "error",
     "traceback": [
      "\u001b[0;31m---------------------------------------------------------------------------\u001b[0m",
      "\u001b[0;31mAttributeError\u001b[0m                            Traceback (most recent call last)",
      "Cell \u001b[0;32mIn[1], line 6\u001b[0m\n\u001b[1;32m      2\u001b[0m \u001b[38;5;28;01mfrom\u001b[39;00m \u001b[38;5;21;01mmodules\u001b[39;00m\u001b[38;5;21;01m.\u001b[39;00m\u001b[38;5;21;01mtokenizer\u001b[39;00m \u001b[38;5;28;01mimport\u001b[39;00m SimpleTokenizer\n\u001b[1;32m      4\u001b[0m SimpleTokenizer(tok_dict_loc\u001b[38;5;241m=\u001b[39m\u001b[38;5;124m'\u001b[39m\u001b[38;5;124mtest_toki/DNA_tok.pt\u001b[39m\u001b[38;5;124m'\u001b[39m)\n\u001b[0;32m----> 6\u001b[0m \u001b[43mmake_h5\u001b[49m\u001b[43m(\u001b[49m\u001b[38;5;124;43m'\u001b[39;49m\u001b[38;5;124;43mtokendata/all_animals\u001b[39;49m\u001b[38;5;124;43m'\u001b[39;49m\u001b[43m,\u001b[49m\u001b[43mtokenizer\u001b[49m\u001b[38;5;241;43m=\u001b[39;49m\u001b[38;5;124;43m'\u001b[39;49m\u001b[38;5;124;43mtest_toki/DNA_tok.pt\u001b[39;49m\u001b[38;5;124;43m'\u001b[39;49m\u001b[43m,\u001b[49m\u001b[43mdata_name\u001b[49m\u001b[38;5;241;43m=\u001b[39;49m\u001b[38;5;124;43m'\u001b[39;49m\u001b[38;5;124;43mall_animals\u001b[39;49m\u001b[38;5;124;43m'\u001b[39;49m\u001b[43m)\u001b[49m\n",
      "File \u001b[0;32m~/DNA/modules/tok_utils/pt_to_h5.py:44\u001b[0m, in \u001b[0;36mmake_h5\u001b[0;34m(pt_data_folder, tokenizer, data_name, destination_folder)\u001b[0m\n\u001b[1;32m     41\u001b[0m phrase_length \u001b[38;5;241m=\u001b[39m tensor\u001b[38;5;241m.\u001b[39mshape[\u001b[38;5;241m0\u001b[39m]\n\u001b[1;32m     42\u001b[0m \u001b[38;5;28mprint\u001b[39m(\u001b[38;5;124mf\u001b[39m\u001b[38;5;124m'\u001b[39m\u001b[38;5;124mDetected phrase length of \u001b[39m\u001b[38;5;132;01m{\u001b[39;00mphrase_length\u001b[38;5;132;01m}\u001b[39;00m\u001b[38;5;124m tokens.\u001b[39m\u001b[38;5;124m'\u001b[39m)\n\u001b[0;32m---> 44\u001b[0m \u001b[38;5;28mprint\u001b[39m(\u001b[38;5;124m'\u001b[39m\u001b[38;5;124msnippet\u001b[39m\u001b[38;5;124m'\u001b[39m, \u001b[43mtokenizer\u001b[49m\u001b[38;5;241;43m.\u001b[39;49m\u001b[43mdetokenize\u001b[49m(tensor[:\u001b[38;5;241m30\u001b[39m]))\n\u001b[1;32m     45\u001b[0m \u001b[38;5;66;03m# Resize the dataset to accommodate the new data\u001b[39;00m\n\u001b[1;32m     46\u001b[0m dset\u001b[38;5;241m.\u001b[39mresize((current_index \u001b[38;5;241m+\u001b[39m phrase_length,))\n",
      "\u001b[0;31mAttributeError\u001b[0m: 'str' object has no attribute 'detokenize'"
     ]
    }
   ],
   "source": [
    "from modules.tok_utils import make_h5\n",
    "from modules.tokenizer import SimpleTokenizer\n",
    "\n",
    "yo=SimpleTokenizer(tok_dict_loc='test_toki/DNA_tok.pt')\n",
    "\n",
    "make_h5('tokendata/all_animals',tokenizer='yo,data_name='all_animals')"
   ]
  },
  {
   "cell_type": "code",
   "execution_count": null,
   "metadata": {},
   "outputs": [],
   "source": []
  }
 ],
 "metadata": {
  "kernelspec": {
   "display_name": "penv",
   "language": "python",
   "name": "python3"
  },
  "language_info": {
   "codemirror_mode": {
    "name": "ipython",
    "version": 3
   },
   "file_extension": ".py",
   "mimetype": "text/x-python",
   "name": "python",
   "nbconvert_exporter": "python",
   "pygments_lexer": "ipython3",
   "version": "3.10.11"
  }
 },
 "nbformat": 4,
 "nbformat_minor": 2
}
